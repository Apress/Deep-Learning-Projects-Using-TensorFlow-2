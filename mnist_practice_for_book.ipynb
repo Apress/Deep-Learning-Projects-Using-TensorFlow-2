{
  "nbformat": 4,
  "nbformat_minor": 0,
  "metadata": {
    "kernelspec": {
      "display_name": "Python 3",
      "language": "python",
      "name": "python3"
    },
    "language_info": {
      "codemirror_mode": {
        "name": "ipython",
        "version": 3
      },
      "file_extension": ".py",
      "mimetype": "text/x-python",
      "name": "python",
      "nbconvert_exporter": "python",
      "pygments_lexer": "ipython3",
      "version": "3.7.3"
    },
    "colab": {
      "name": "mnist practice for book.ipynb",
      "provenance": [],
      "collapsed_sections": [],
      "include_colab_link": true
    }
  },
  "cells": [
    {
      "cell_type": "markdown",
      "metadata": {
        "id": "view-in-github",
        "colab_type": "text"
      },
      "source": [
        "<a href=\"https://colab.research.google.com/github/its-sbal/Deep-Learning-Projects-Using-TensorFlow-2/blob/temp/mnist_practice_for_book.ipynb\" target=\"_parent\"><img src=\"https://colab.research.google.com/assets/colab-badge.svg\" alt=\"Open In Colab\"/></a>"
      ]
    },
    {
      "cell_type": "markdown",
      "metadata": {
        "id": "nPuPWHif5BIM"
      },
      "source": [
        "# <center> Single Layer Neural Network"
      ]
    },
    {
      "cell_type": "markdown",
      "metadata": {
        "id": "0Bgr_pbo5BIT"
      },
      "source": [
        "In this tutorial, we are going to create a single layer neural network. Then we will classify the digits in the MNIST dataset."
      ]
    },
    {
      "cell_type": "markdown",
      "metadata": {
        "id": "UgzOQyVC5BIU"
      },
      "source": [
        "### Import Tensorflow and Keras"
      ]
    },
    {
      "cell_type": "code",
      "metadata": {
        "id": "VWPOByL-5BIV"
      },
      "source": [
        "#import libraries.\n",
        "import keras\n",
        "import tensorflow as tf"
      ],
      "execution_count": 13,
      "outputs": []
    },
    {
      "cell_type": "markdown",
      "metadata": {
        "id": "hJZg1aeO5BIb"
      },
      "source": [
        "### Read in the data\n",
        "\n",
        "Keras comes pre-loaded with a collection of datasets. MNIST is one of them. So we will load it directly from Keras."
      ]
    },
    {
      "cell_type": "code",
      "metadata": {
        "id": "BqJRnfbX5BId"
      },
      "source": [
        "mnist=tf.keras.datasets.mnist"
      ],
      "execution_count": 14,
      "outputs": []
    },
    {
      "cell_type": "markdown",
      "metadata": {
        "id": "dm8wpiQg5BIj"
      },
      "source": [
        "Split the data into a training set and test set"
      ]
    },
    {
      "cell_type": "code",
      "metadata": {
        "id": "QnHWpaHf5BIk"
      },
      "source": [
        "(x_train, y_train), (x_test, y_test) = mnist.load_data()"
      ],
      "execution_count": 15,
      "outputs": []
    },
    {
      "cell_type": "markdown",
      "metadata": {
        "id": "gckjMpfT5BIn"
      },
      "source": [
        "## Data Processing"
      ]
    },
    {
      "cell_type": "markdown",
      "metadata": {
        "id": "U9xyNe1c5BIp"
      },
      "source": [
        "### Flatten Images"
      ]
    },
    {
      "cell_type": "markdown",
      "metadata": {
        "id": "O2DT2ICP5BIq"
      },
      "source": [
        "We turn the images into one dimensional images for convenience."
      ]
    },
    {
      "cell_type": "code",
      "metadata": {
        "id": "GGiTMLMz5BIr"
      },
      "source": [
        "x_train, x_test = x_train / 255.0, x_test / 255.0"
      ],
      "execution_count": 16,
      "outputs": []
    },
    {
      "cell_type": "markdown",
      "metadata": {
        "id": "7sF2azfq5BIy"
      },
      "source": [
        "### Create the Neural Network"
      ]
    },
    {
      "cell_type": "markdown",
      "metadata": {
        "id": "Lapj6MDy5BIz"
      },
      "source": [
        "Create the neural network with a single hidden layer."
      ]
    },
    {
      "cell_type": "code",
      "metadata": {
        "id": "T77rpiOO5BI0"
      },
      "source": [
        "digit = tf.keras.models.Sequential([\n",
        "    tf.keras.layers.Flatten(input_shape=(28, 28)),\n",
        "    tf.keras.layers.Dense(10, activation='softmax')\n",
        "])"
      ],
      "execution_count": 17,
      "outputs": []
    },
    {
      "cell_type": "markdown",
      "metadata": {
        "id": "oZCsExwh5BI4"
      },
      "source": [
        "Now we can define the optomizer, loss and metrics."
      ]
    },
    {
      "cell_type": "code",
      "metadata": {
        "id": "DUFYoqFh5BI5"
      },
      "source": [
        "digit.compile(optimizer='adam',\n",
        "              loss='sparse_categorical_crossentropy',\n",
        "              metrics=['accuracy'])\n"
      ],
      "execution_count": 18,
      "outputs": []
    },
    {
      "cell_type": "markdown",
      "metadata": {
        "id": "1JpkeNE85BI8"
      },
      "source": [
        "### Train the Model"
      ]
    },
    {
      "cell_type": "code",
      "metadata": {
        "id": "Topvfi185BI_",
        "outputId": "0fec2620-7158-46d1-9fbd-85bf2eb1ba87",
        "colab": {
          "base_uri": "https://localhost:8080/"
        }
      },
      "source": [
        "digit.fit(x_train, y_train, epochs=3)"
      ],
      "execution_count": 19,
      "outputs": [
        {
          "output_type": "stream",
          "name": "stdout",
          "text": [
            "Epoch 1/3\n",
            "1875/1875 [==============================] - 4s 2ms/step - loss: 0.4705 - accuracy: 0.8782\n",
            "Epoch 2/3\n",
            "1875/1875 [==============================] - 3s 2ms/step - loss: 0.3037 - accuracy: 0.9147\n",
            "Epoch 3/3\n",
            "1875/1875 [==============================] - 3s 2ms/step - loss: 0.2832 - accuracy: 0.9212\n"
          ]
        },
        {
          "output_type": "execute_result",
          "data": {
            "text/plain": [
              "<keras.callbacks.History at 0x7f710f0d2a50>"
            ]
          },
          "metadata": {},
          "execution_count": 19
        }
      ]
    },
    {
      "cell_type": "markdown",
      "metadata": {
        "id": "lgBjmvuz5BJE"
      },
      "source": [
        "### Test the Model"
      ]
    },
    {
      "cell_type": "code",
      "metadata": {
        "id": "tG4s2aJE5BJF",
        "outputId": "34ad865c-9209-4b99-cb05-bc2aa77e9fec",
        "colab": {
          "base_uri": "https://localhost:8080/"
        }
      },
      "source": [
        "digit.evaluate(x_test, y_test)"
      ],
      "execution_count": 20,
      "outputs": [
        {
          "output_type": "stream",
          "name": "stdout",
          "text": [
            "313/313 [==============================] - 1s 2ms/step - loss: 0.2756 - accuracy: 0.9233\n"
          ]
        },
        {
          "output_type": "execute_result",
          "data": {
            "text/plain": [
              "[0.27559980750083923, 0.92330002784729]"
            ]
          },
          "metadata": {},
          "execution_count": 20
        }
      ]
    },
    {
      "cell_type": "markdown",
      "source": [
        "### Using the Model to Predict"
      ],
      "metadata": {
        "id": "fsiqlbQAnZGt"
      }
    },
    {
      "cell_type": "markdown",
      "source": [
        "### Import libraries"
      ],
      "metadata": {
        "id": "ah6B3Cn_nz0t"
      }
    },
    {
      "cell_type": "code",
      "metadata": {
        "id": "WYj_PeSY5cnE"
      },
      "source": [
        "import numpy as np\n",
        "import matplotlib.pyplot as plt"
      ],
      "execution_count": 21,
      "outputs": []
    },
    {
      "cell_type": "markdown",
      "source": [
        "Storing predictions of entire Test Data"
      ],
      "metadata": {
        "id": "Qav4kPONoEy9"
      }
    },
    {
      "cell_type": "code",
      "source": [
        "predictions = digit.predict([x_test])"
      ],
      "metadata": {
        "id": "tg-nkeBnodCe"
      },
      "execution_count": 22,
      "outputs": []
    },
    {
      "cell_type": "markdown",
      "source": [
        "Now we check the predicted value of an image"
      ],
      "metadata": {
        "id": "5dpnA-5GopfE"
      }
    },
    {
      "cell_type": "code",
      "source": [
        "np.argmax(predictions[12])"
      ],
      "metadata": {
        "colab": {
          "base_uri": "https://localhost:8080/"
        },
        "id": "FGillVo1oc9z",
        "outputId": "8ace7444-7872-432c-d04a-87746e2130f6"
      },
      "execution_count": 23,
      "outputs": [
        {
          "output_type": "execute_result",
          "data": {
            "text/plain": [
              "9"
            ]
          },
          "metadata": {},
          "execution_count": 23
        }
      ]
    },
    {
      "cell_type": "markdown",
      "source": [
        "Let's check whether the Prediction matches the Image"
      ],
      "metadata": {
        "id": "UfMjcMDio1fc"
      }
    },
    {
      "cell_type": "code",
      "source": [
        "plt.imshow(x_test[12])"
      ],
      "metadata": {
        "colab": {
          "base_uri": "https://localhost:8080/",
          "height": 284
        },
        "id": "UAvZZfiToc5U",
        "outputId": "4379a07b-5b2c-4468-ac9f-6ea0356db158"
      },
      "execution_count": 24,
      "outputs": [
        {
          "output_type": "execute_result",
          "data": {
            "text/plain": [
              "<matplotlib.image.AxesImage at 0x7f711022b110>"
            ]
          },
          "metadata": {},
          "execution_count": 24
        },
        {
          "output_type": "display_data",
          "data": {
            "image/png": "[encoded data removed]",
            "text/plain": [
              "<Figure size 432x288 with 1 Axes>"
            ]
          },
          "metadata": {
            "needs_background": "light"
          }
        }
      ]
    }
  ]
}